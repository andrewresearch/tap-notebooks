{
 "cells": [
  {
   "cell_type": "markdown",
   "metadata": {},
   "source": [
    "# TAP Basic Tests"
   ]
  },
  {
   "cell_type": "code",
   "execution_count": 12,
   "metadata": {},
   "outputs": [
    {
     "data": {
      "text/plain": [
       "defined \u001b[32mobject\u001b[39m \u001b[36mTap\u001b[39m"
      ]
     },
     "execution_count": 12,
     "metadata": {},
     "output_type": "execute_result"
    }
   ],
   "source": [
    "object Tap {\n",
    "    import scalaj.http._\n",
    "    \n",
    "    //val API_URL = \"https://b9yiddda69.execute-api.ap-southeast-2.amazonaws.com/initialtest/v1\"\n",
    "    val API_URL = \"http://localhost:8080/v1\"\n",
    "    val HEALTH_URL = API_URL+\"/health\"\n",
    "    val CLEAN_URL = API_URL+\"/analyse/text/clean\"\n",
    "    \n",
    "    case class Message(message:String)\n",
    "    case class Results(message:String,results:List[String])\n",
    "\n",
    "    def serverDetails = Http(API_URL).asString\n",
    "\n",
    "    def getHealthMessage = {\n",
    "        println(s\"Connecting to $HEALTH_URL\")\n",
    "        val response = Http(HEALTH_URL).asString\n",
    "        //println(response)\n",
    "        upickle.default.read[Message](response.body)\n",
    "    }\n",
    "\n",
    "    def serverIsHealthy = {\n",
    "        try { getHealthMessage.message==\"ok\" }\n",
    "        catch { case e:Exception => {\n",
    "                println(s\"There was a problem with the server: $e\")\n",
    "                false }\n",
    "        }\n",
    "    }\n",
    "    \n",
    "    def cleanText(text:String) = {\n",
    "        println(s\"Cleaning text: $text\")\n",
    "        val response = Http(CLEAN_URL).postData(text).asString\n",
    "        upickle.default.read[Results](response.body)\n",
    "    }\n",
    "}"
   ]
  },
  {
   "cell_type": "markdown",
   "metadata": {},
   "source": [
    "### Server Health"
   ]
  },
  {
   "cell_type": "code",
   "execution_count": 10,
   "metadata": {},
   "outputs": [
    {
     "name": "stdout",
     "output_type": "stream",
     "text": [
      "Connecting to http://localhost:8080/v1/health\n",
      "Server is OK\n"
     ]
    }
   ],
   "source": [
    "\n",
    "if(Tap.serverIsHealthy) println(\"Server is OK\")\n",
    "else println(\"Server is not OK\")"
   ]
  },
  {
   "cell_type": "markdown",
   "metadata": {},
   "source": [
    "### Cleaning Text"
   ]
  },
  {
   "cell_type": "code",
   "execution_count": 16,
   "metadata": {},
   "outputs": [
    {
     "name": "stdout",
     "output_type": "stream",
     "text": [
      "Connecting to http://localhost:8080/v1/health\n",
      "Cleaning text: C¢¶£§le∆˙©an §••–me˙˚˙©\n",
      "Clean me\n"
     ]
    }
   ],
   "source": [
    "if(Tap.serverIsHealthy) {\n",
    "    val results = Tap.cleanText(\"C¢¶£§le∆˙©an §••–me˙˚˙©\").results\n",
    "    results.foreach(println(_))\n",
    "}"
   ]
  },
  {
   "cell_type": "markdown",
   "metadata": {},
   "source": [
    "### Text Vocabulary"
   ]
  },
  {
   "cell_type": "code",
   "execution_count": null,
   "metadata": {
    "collapsed": true
   },
   "outputs": [],
   "source": []
  }
 ],
 "metadata": {
  "kernelspec": {
   "display_name": "Scala",
   "language": "scala",
   "name": "scala"
  },
  "language_info": {
   "codemirror_mode": "text/x-scala",
   "file_extension": ".scala",
   "mimetype": "text/x-scala",
   "name": "scala212",
   "nbconvert_exporter": "script",
   "pygments_lexer": "scala",
   "version": "2.12.1"
  }
 },
 "nbformat": 4,
 "nbformat_minor": 2
}

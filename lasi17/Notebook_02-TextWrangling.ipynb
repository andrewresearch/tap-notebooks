{
 "cells": [
  {
   "cell_type": "markdown",
   "metadata": {
    "collapsed": true,
    "slideshow": {
     "slide_type": "slide"
    }
   },
   "source": [
    "## Text Wrangling"
   ]
  },
  {
   "cell_type": "code",
   "execution_count": 1,
   "metadata": {
    "slideshow": {
     "slide_type": "slide"
    }
   },
   "outputs": [
    {
     "data": {
      "text/plain": [
       "defined \u001b[32mobject\u001b[39m \u001b[36mLocalIO\u001b[39m\n",
       "defined \u001b[32mobject\u001b[39m \u001b[36mTap\u001b[39m"
      ]
     },
     "execution_count": 1,
     "metadata": {},
     "output_type": "execute_result"
    }
   ],
   "source": [
    "//Load helper objects\n",
    "\n",
    "object LocalIO {\n",
    "    import java.io.File\n",
    "    import scala.io.Source\n",
    "    \n",
    "    val IN_DIR_NAME = \"/input_files\"\n",
    "    val OUT_DIR_NAME = \"/output_files\"\n",
    "    \n",
    "    val thisDir = new File(\".\").getCanonicalPath\n",
    "    val inputFileDir = thisDir+IN_DIR_NAME\n",
    "    val outputFileDir = thisDir+OUT_DIR_NAME\n",
    "    \n",
    "    val visibleFile = (file:File) => !file.isHidden\n",
    "    val textFile = (file:File) => file.getName.split('.').last.contains(\"txt\")\n",
    "    \n",
    "    def directoryFromString(directory:String):Option[File] = {\n",
    "         val thisDir = new File(directory)\n",
    "         if (thisDir.exists && thisDir.isDirectory) Some(thisDir)\n",
    "         else None\n",
    "    }\n",
    "    \n",
    "    def listFiles(directory:String):List[File] = {\n",
    "        directoryFromString(directory) match {\n",
    "            case Some(dir) => dir.listFiles.toList\n",
    "            case None => List[File]()\n",
    "        }\n",
    "    }\n",
    "    \n",
    "    def listThisDir = listFiles(thisDir)\n",
    "    \n",
    "    def listThisDirVisible = listThisDir.filter(visibleFile)\n",
    "    \n",
    "    def listThisDirText = listThisDirVisible.filter(textFile)\n",
    "    \n",
    "    def readFile(file:File) = {\n",
    "        val source = Source.fromFile(file.getCanonicalPath)\n",
    "        try {\n",
    "            source.getLines.mkString(\"\\n\\n\")\n",
    "        } finally {\n",
    "            source.close\n",
    "        }\n",
    "    }\n",
    "}\n",
    "\n",
    "object Tap {\n",
    "    import scalaj.http._\n",
    "    \n",
    "    //val API_URL = \"https://b9yiddda69.execute-api.ap-southeast-2.amazonaws.com/initialtest/v1\"\n",
    "    val API_URL = \"http://localhost:8080/v1\"\n",
    "    val HEALTH_URL = API_URL+\"/health\"\n",
    "    val CLEAN_URL = API_URL+\"/analyse/text/clean\"\n",
    "    \n",
    "    case class Message(message:String)\n",
    "    case class Results(message:String,results:List[String])\n",
    "\n",
    "    def serverDetails = Http(API_URL).asString\n",
    "\n",
    "    def getHealthMessage = {\n",
    "        println(s\"Connecting to $HEALTH_URL\")\n",
    "        val response = Http(HEALTH_URL).asString\n",
    "        //println(response)\n",
    "        upickle.default.read[Message](response.body)\n",
    "    }\n",
    "\n",
    "    def serverIsHealthy = {\n",
    "        try { getHealthMessage.message==\"ok\" }\n",
    "        catch { case e:Exception => {\n",
    "                println(s\"There was a problem with the server: $e\")\n",
    "                false }\n",
    "        }\n",
    "    }\n",
    "    \n",
    "    def cleanText(text:String) = {\n",
    "        println(s\"Cleaning text: $text\")\n",
    "        val response = Http(CLEAN_URL).postData(text).header(\"content-type\", \"application/json\").asString\n",
    "        upickle.default.read[Results](response.body)\n",
    "    }\n",
    "}"
   ]
  },
  {
   "cell_type": "markdown",
   "metadata": {},
   "source": [
    "### cleaning: \n",
    "\n",
    "- why is this non-trivial?"
   ]
  },
  {
   "cell_type": "code",
   "execution_count": 7,
   "metadata": {},
   "outputs": [
    {
     "name": "stdout",
     "output_type": "stream",
     "text": [
      "Cleaning text: C¢¶£§le∆˙©an §••–me˙˚˙©\n",
      "\n",
      "pl•§ea£¢¬˙se\n"
     ]
    },
    {
     "data": {
      "text/plain": [
       "\u001b[36mres6\u001b[39m: \u001b[32mList\u001b[39m[\u001b[32mString\u001b[39m] = \u001b[33mList\u001b[39m(\u001b[32m\"Clean me\"\u001b[39m, \u001b[32m\"please\"\u001b[39m)"
      ]
     },
     "execution_count": 7,
     "metadata": {},
     "output_type": "execute_result"
    }
   ],
   "source": [
    "Tap.cleanText(\"C¢¶£§le∆˙©an §••–me˙˚˙©\\n\\npl•§ea£¢¬˙se\").results"
   ]
  },
  {
   "cell_type": "markdown",
   "metadata": {},
   "source": [
    "### structuring\n",
    "\n",
    "- chunking\n",
    "- tokenising\n",
    "- multiple approaches may be needed depending on what is ahead (i.e. different algorithms need different text input)"
   ]
  },
  {
   "cell_type": "code",
   "execution_count": null,
   "metadata": {
    "collapsed": true
   },
   "outputs": [],
   "source": []
  },
  {
   "cell_type": "markdown",
   "metadata": {},
   "source": [
    "### bridge building\n",
    "\n",
    "- what are the implications for pedagogy?\n",
    "- what does the theory say?"
   ]
  },
  {
   "cell_type": "code",
   "execution_count": null,
   "metadata": {
    "collapsed": true
   },
   "outputs": [],
   "source": []
  }
 ],
 "metadata": {
  "kernelspec": {
   "display_name": "Scala",
   "language": "scala",
   "name": "scala"
  },
  "language_info": {
   "codemirror_mode": "text/x-scala",
   "file_extension": ".scala",
   "mimetype": "text/x-scala",
   "name": "scala212",
   "nbconvert_exporter": "script",
   "pygments_lexer": "scala",
   "version": "2.12.1"
  }
 },
 "nbformat": 4,
 "nbformat_minor": 1
}

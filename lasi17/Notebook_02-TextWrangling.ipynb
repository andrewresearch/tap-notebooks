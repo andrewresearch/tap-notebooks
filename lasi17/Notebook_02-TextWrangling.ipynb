{
 "cells": [
  {
   "cell_type": "markdown",
   "metadata": {
    "collapsed": true
   },
   "source": [
    "## Text Wrangling\n",
    "\n",
    "### cleaning: \n",
    "\n",
    "- why is this non-trivial?\n",
    "\n",
    "### structuring\n",
    "\n",
    "- chunking\n",
    "- tokenising\n",
    "- multiple approaches may be needed depending on what is ahead (i.e. different algorithms need different text input)\n",
    "\n",
    "### bridge building\n",
    "\n",
    "- what are the implications for pedagogy?\n",
    "- what does the theory say?"
   ]
  },
  {
   "cell_type": "markdown",
   "metadata": {},
   "source": []
  }
 ],
 "metadata": {
  "kernelspec": {
   "display_name": "Scala",
   "language": "scala",
   "name": "scala"
  },
  "language_info": {
   "codemirror_mode": "text/x-scala",
   "file_extension": ".scala",
   "mimetype": "text/x-scala",
   "name": "scala212",
   "nbconvert_exporter": "script",
   "pygments_lexer": "scala",
   "version": "2.12.1"
  }
 },
 "nbformat": 4,
 "nbformat_minor": 1
}

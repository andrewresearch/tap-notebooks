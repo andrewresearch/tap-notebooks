{
 "cells": [
  {
   "cell_type": "markdown",
   "metadata": {
    "collapsed": true
   },
   "source": [
    "## Getting Started"
   ]
  },
  {
   "cell_type": "markdown",
   "metadata": {},
   "source": [
    "### GitHub and Jupyter\n",
    "\n",
    "Everything that you require for this workshop is available on GitHub and released under an Apache 2.0 license. We encourage you to make improvements (or add additional resources) and contribute back to the repos so that this workshop can be improved for future participants. \n",
    "\n",
    "If you are unfamiliar with working with GitHub, then see this website for helpful tips.\n",
    "\n",
    "You can run these notebooks yourself on your own machine by taking the following steps:\n",
    "\n",
    "1. Install Python\n",
    "\n",
    "2. Install Jupyter\n",
    "\n",
    "3. Install scala and jupyter-scala (if you are using scala)\n",
    "\n",
    "4. Clone the tap-notebook repo\n",
    "\n",
    "5. From the commandline, CD into the notebook directory\n",
    "\n",
    "6. Run Jupyter\n",
    "\n",
    "7. Connect to Jupyter using your web browser\n"
   ]
  },
  {
   "cell_type": "markdown",
   "metadata": {},
   "source": [
    "### Notebook basics\n",
    "\n",
    "Here is some basic info on how to use the workbook. For more detail, see these guides...\n",
    "    - The Jupyter website\n",
    "    - jupyter-scala website\n",
    "    \n",
    "For now, let's try a basic hello world!"
   ]
  },
  {
   "cell_type": "code",
   "execution_count": null,
   "metadata": {},
   "outputs": [],
   "source": [
    "//Let's assign a value \n",
    "// Assign \"LASI'17\" to myWorld by replacing the ???\n",
    "\n",
    "val myWorld = ???"
   ]
  },
  {
   "cell_type": "markdown",
   "metadata": {},
   "source": [
    "Pressing **shift-return** will run the currently selected cell and move to the next cell. Do this in the cell above. The result should be:\n",
    "\n",
    "```\n",
    "Out[1]: myWorld: String = \"LASI'17\" \n",
    "\n",
    "```\n",
    "Once you have this, run the cell below to show a sentence with the value included."
   ]
  },
  {
   "cell_type": "code",
   "execution_count": 3,
   "metadata": {},
   "outputs": [
    {
     "name": "stdout",
     "output_type": "stream",
     "text": [
      "\u001b[32m\"Hello LASI'17!\"\u001b[39m\n"
     ]
    }
   ],
   "source": [
    "show(s\"Hello $myWorld!\")"
   ]
  },
  {
   "cell_type": "markdown",
   "metadata": {},
   "source": [
    "The notebook takes code that has been run in previous cells and allows you to use it in subsequent cells. We will use this feature to step through various processes in Writing Analytics."
   ]
  },
  {
   "cell_type": "markdown",
   "metadata": {},
   "source": [
    "#### Coding\n",
    "\n",
    "The code in the notebook is run by a 'kernel'. The name of the kernel is in the top righthand corner of the window under the logout button. For this workshop, we have scala or python notebooks. \n",
    "\n",
    "You can pick one of a number of options to complete this workshop:\n",
    "\n",
    "1. Follow along in the scala language using the scala notebooks\n",
    "2. Follow along in the python language using the python notebooks\n",
    "3. Work in scala or python on your local machine using the notebooks as a guide\n",
    "4. Work in another language that you prefer trying the notebook exercises in your own language\n",
    "\n",
    "***Adopt the approach that is most useful for you and your work***"
   ]
  },
  {
   "cell_type": "markdown",
   "metadata": {},
   "source": [
    "### Workshop approach\n",
    "\n",
    "The workshop is intended to guide you through some of the processes involved in Writing Analytics. It is not indended to be prescriptive, but rather to provide a lot of flexibility for you to explore the ideas in ways that are most relevant to your work.\n",
    "\n",
    "If you're inexperienced with coding, then you may just wish to stick on the path provided by the Jupyter notebooks. If you're experienced, then you may wish to explore the ideas in your own way. **Choose the best path for you.**\n",
    "\n",
    "#### Common ground\n",
    "\n",
    "Regardless of which approach you take, all of us will explore some common ground through 3 questions that we will continually revist over the course of the workshop:\n",
    "\n",
    "1. What are the pedagogical aspects?\n",
    "2. What are the computational aspects?\n",
    "3. How do we connect the pedagogical and the computational\n",
    "\n",
    "We can think of each connection as a single Writing Analytics beam, with the aim of building an increasingly strong bridge over time from multiple beams connecting the pedagogical and the computational. \n"
   ]
  },
  {
   "cell_type": "markdown",
   "metadata": {},
   "source": [
    "#### On accuracy and precision"
   ]
  },
  {
   "cell_type": "code",
   "execution_count": null,
   "metadata": {
    "collapsed": true
   },
   "outputs": [],
   "source": [
    ""
   ]
  },
  {
   "cell_type": "markdown",
   "metadata": {},
   "source": [
    "#### On evaluation"
   ]
  },
  {
   "cell_type": "code",
   "execution_count": null,
   "metadata": {
    "collapsed": true
   },
   "outputs": [],
   "source": [
    ""
   ]
  }
 ],
 "metadata": {
  "kernelspec": {
   "display_name": "Scala",
   "language": "scala",
   "name": "scala"
  },
  "language_info": {
   "codemirror_mode": "text/x-scala",
   "file_extension": ".scala",
   "mimetype": "text/x-scala",
   "name": "scala212",
   "nbconvert_exporter": "script",
   "pygments_lexer": "scala",
   "version": "2.12.1"
  }
 },
 "nbformat": 4,
 "nbformat_minor": 0
}
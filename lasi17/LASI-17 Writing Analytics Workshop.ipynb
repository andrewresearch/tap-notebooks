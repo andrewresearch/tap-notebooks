{
 "cells": [
  {
   "cell_type": "markdown",
   "metadata": {},
   "source": [
    "## LASI'17 Writing Analytics Workshop\n",
    "\n",
    "This is the Jupyter Notebook for the 2017 LASI Writing Analytics workshop. The workbook is designed to be a starter to demonstrate some key ideas for writing analytics, and be extended by you to try these ideas with your own work.\n",
    "\n",
    "This workbook uses the Scala kernel, but all examples could be implemented in Python, R, or other languages supported by Jupyter notebook."
   ]
  },
  {
   "cell_type": "markdown",
   "metadata": {
    "collapsed": true
   },
   "source": [
    "### Accessing data\n",
    "\n",
    "We need to be able to access our raw data, send it to be processed, and store the results. So these two objects provide some helper methods to:\n",
    "- Read from and write to the file system\n",
    "- Talk to the TAP API"
   ]
  },
  {
   "cell_type": "markdown",
   "metadata": {},
   "source": [
    "#### Access the file system"
   ]
  },
  {
   "cell_type": "code",
   "execution_count": 1,
   "metadata": {},
   "outputs": [
    {
     "data": {
      "text/plain": [
       "defined \u001b[32mobject\u001b[39m \u001b[36mFileSys\u001b[39m"
      ]
     },
     "execution_count": 1,
     "metadata": {},
     "output_type": "execute_result"
    }
   ],
   "source": [
    "object FileSys {\n",
    "    \n",
    "    import ammonite.ops._\n",
    "    \n",
    "    val IN_DIR_NAME = \"input_files\"\n",
    "    val OUT_DIR_NAME = \"output_files\"\n",
    "    \n",
    "    val thisDir = pwd\n",
    "    val inputFileDir = thisDir/IN_DIR_NAME\n",
    "    val outputFileDir = thisDir/OUT_DIR_NAME\n",
    "    \n",
    "    def listThisDir = ls(thisDir).filterNot( path => { //Filter out the file/directories starting with '.'\n",
    "        val startChar = path.last.head\n",
    "        //println(s\"startChar: $startChar\")\n",
    "        startChar=='.'\n",
    "    })\n",
    "    \n",
    "    def resetOutputDir = {\n",
    "        rm(outputFileDir)\n",
    "        mkdir(outputFileDir)\n",
    "    }\n",
    "    \n",
    "    def listInputFiles = {\n",
    "        ls(inputFileDir) |? (_.ext == \"txt\")\n",
    "    }\n",
    "    \n",
    "    def firstFile = listInputFiles.head\n",
    "    \n",
    "    def getLinesForFile(filepath:Path) = read.lines(filepath)\n",
    "}"
   ]
  },
  {
   "cell_type": "markdown",
   "metadata": {},
   "source": [
    "#### Access the Text Analytics Pipeline (TAP)"
   ]
  },
  {
   "cell_type": "code",
   "execution_count": 11,
   "metadata": {},
   "outputs": [
    {
     "data": {
      "text/plain": [
       "defined \u001b[32mobject\u001b[39m \u001b[36mTap\u001b[39m"
      ]
     },
     "execution_count": 11,
     "metadata": {},
     "output_type": "execute_result"
    }
   ],
   "source": [
    "object Tap {\n",
    "    import scalaj.http._\n",
    "    \n",
    "    val API_URL = \"https://b9yiddda69.execute-api.ap-southeast-2.amazonaws.com/initialtest/v1\"\n",
    "    val HEALTH_URL = API_URL+\"/health\"\n",
    "    \n",
    "    case class Message(message:String)\n",
    "\n",
    "    def serverDetails = Http(API_URL).asString\n",
    "\n",
    "    def getHealthMessage = {\n",
    "        println(s\"Connecting to $HEALTH_URL\")\n",
    "        val response = Http(HEALTH_URL).asString\n",
    "        println(response)\n",
    "        upickle.default.read[Message](response.body)\n",
    "    }\n",
    "\n",
    "    def serverIsHealthy = {\n",
    "        try { getHealthMessage.message==\"ok\" }\n",
    "        catch { case e:Exception => {\n",
    "                println(s\"There was a problem with the server: $e\")\n",
    "                false }\n",
    "        }\n",
    "    }\n",
    "}"
   ]
  },
  {
   "cell_type": "markdown",
   "metadata": {},
   "source": [
    "#### Testing data access - file system"
   ]
  },
  {
   "cell_type": "code",
   "execution_count": 12,
   "metadata": {},
   "outputs": [
    {
     "name": "stdout",
     "output_type": "stream",
     "text": [
      "\u001b[33mList\u001b[39m(\n",
      "  /Users/andrew/Documents/development/_projects/Notebooks/LASI-17/LASI-17 Writing Analytics Workshop.ipynb,\n",
      "  /Users/andrew/Documents/development/_projects/Notebooks/LASI-17/README.md,\n",
      "  /Users/andrew/Documents/development/_projects/Notebooks/LASI-17/input_files,\n",
      "  /Users/andrew/Documents/development/_projects/Notebooks/LASI-17/output_files\n",
      ")\n"
     ]
    },
    {
     "data": {
      "text/plain": [
       "\u001b[36minputFiles\u001b[39m: \u001b[32mSeq\u001b[39m[\u001b[32mammonite\u001b[39m.\u001b[32mops\u001b[39m.\u001b[32mPath\u001b[39m] = \u001b[33mList\u001b[39m(\n",
       "  /Users/andrew/Documents/development/_projects/Notebooks/LASI-17/input_files/pharm-sample.txt\n",
       ")"
      ]
     },
     "execution_count": 12,
     "metadata": {},
     "output_type": "execute_result"
    }
   ],
   "source": [
    "//Remove an output dir if it exists and recreate\n",
    "FileSys.resetOutputDir\n",
    "\n",
    "//Check if it's there\n",
    "show(FileSys.listThisDir)\n",
    "\n",
    "//If we need to write temporary files\n",
    "//val tempDir = tmp.dir()\n",
    "\n",
    "//Get a list of all text files in the input directory\n",
    "val inputFiles = FileSys.listInputFiles"
   ]
  },
  {
   "cell_type": "markdown",
   "metadata": {},
   "source": [
    "#### Testing data access - TAP"
   ]
  },
  {
   "cell_type": "code",
   "execution_count": 13,
   "metadata": {},
   "outputs": [
    {
     "name": "stdout",
     "output_type": "stream",
     "text": [
      "Connecting to https://b9yiddda69.execute-api.ap-southeast-2.amazonaws.com/initialtest/v1/health\n",
      "HttpResponse({\"message\": \"Network error communicating with endpoint\"},504,Map(Connection -> Vector(keep-alive), Content-Length -> Vector(56), Content-Type -> Vector(application/json), Date -> Vector(Thu, 27 Apr 2017 08:55:20 GMT), Status -> Vector(HTTP/1.1 504 Gateway Timeout), Via -> Vector(1.1 034e630e8674ac0b9c29358c6c3163d4.cloudfront.net (CloudFront)), X-Amz-Cf-Id -> Vector(9q7x2w3HUphKaA--JIEOsUY8_xDP8q_jnt6JDfWW6kiogw9Y91-S8A==), x-amzn-RequestId -> Vector(3debc5fd-2b27-11e7-a6cb-bb69941cde3f), X-Cache -> Vector(Error from cloudfront)))\n",
      "The server is not working\n"
     ]
    }
   ],
   "source": [
    "//Tap.serverDetails\n",
    "if(Tap.serverIsHealthy) println(\"The server is healthy\")\n",
    "else println(\"The server is not working\")"
   ]
  },
  {
   "cell_type": "markdown",
   "metadata": {
    "collapsed": true
   },
   "source": [
    "#### Putting the two together\n",
    "\n",
    "Let's read a file from the file system (the input_files directory), submit it to the TAP API, and then save the results back to the file system (the output_files directory)."
   ]
  },
  {
   "cell_type": "code",
   "execution_count": null,
   "metadata": {
    "collapsed": true
   },
   "outputs": [],
   "source": []
  }
 ],
 "metadata": {
  "kernelspec": {
   "display_name": "Scala",
   "language": "scala",
   "name": "scala"
  },
  "language_info": {
   "codemirror_mode": "text/x-scala",
   "file_extension": ".scala",
   "mimetype": "text/x-scala",
   "name": "scala212",
   "nbconvert_exporter": "script",
   "pygments_lexer": "scala",
   "version": "2.12.1"
  }
 },
 "nbformat": 4,
 "nbformat_minor": 1
}
